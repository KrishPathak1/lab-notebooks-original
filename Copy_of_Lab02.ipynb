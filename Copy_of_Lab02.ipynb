{
  "cells": [
    {
      "cell_type": "markdown",
      "metadata": {
        "id": "view-in-github",
        "colab_type": "text"
      },
      "source": [
        "<a href=\"https://colab.research.google.com/github/KrishPathak1/lab-notebooks-original/blob/main/Copy_of_Lab02.ipynb\" target=\"_parent\"><img src=\"https://colab.research.google.com/assets/colab-badge.svg\" alt=\"Open In Colab\"/></a>"
      ]
    },
    {
      "cell_type": "markdown",
      "metadata": {
        "id": "ufAF2GF2-PbJ"
      },
      "source": [
        "<a href=\"https://colab.research.google.com/github/LMU-CMSI-1010/lab-notebooks-original/blob/main/Lab02.ipynb\" target=\"_parent\"><img src=\"https://colab.research.google.com/assets/colab-badge.svg\" alt=\"Open In Colab\"/></a>"
      ]
    },
    {
      "cell_type": "markdown",
      "metadata": {
        "id": "9aXfrLXg9seM"
      },
      "source": [
        "# Lab 02 Sorting Hogwarts\n",
        "In this lab you will practice using conditional statements in order to sort your user into a Hogwarts house.\n",
        "\n",
        "## Asking for user preferences\n",
        "We will ask users a series of questions. This code will be provided to you. You will need to save responses from users and keep track of the preferences in terms of counts for each house.\n",
        "\n"
      ]
    },
    {
      "cell_type": "markdown",
      "metadata": {
        "id": "oH_PT-1bu19E"
      },
      "source": [
        "## Counts for each House\n",
        "We will use the following integer variables to keep track of whether the response given by users should place them in the house. There is a variable for each house and we will guide you when to increment each. Remember that *increment* means to add 1 to its value."
      ]
    },
    {
      "cell_type": "code",
      "execution_count": null,
      "metadata": {
        "id": "O2m4hak_va-j"
      },
      "outputs": [],
      "source": [
        "# Variables to keep track of responses that show preferences for each House\n",
        "# You do not need to change the code in this cell and will use these variables\n",
        "# for the rest of the lab\n",
        "# The name of each variable is a House and you will increment if the user\n",
        "# response shows preference for that House.\n",
        "gryffindor = 0\n",
        "hufflepuff = 0\n",
        "ravenclaw = 0\n",
        "slytherin = 0"
      ]
    },
    {
      "cell_type": "markdown",
      "metadata": {
        "id": "LCUmYgcomFGg"
      },
      "source": [
        "## Q1:"
      ]
    },
    {
      "cell_type": "code",
      "execution_count": 1,
      "metadata": {
        "id": "5DUZ_9hPmxCi",
        "colab": {
          "base_uri": "https://localhost:8080/"
        },
        "outputId": "ce9f1626-87e3-4e88-acc6-9d766dd71e91"
      },
      "outputs": [
        {
          "output_type": "stream",
          "name": "stdout",
          "text": [
            "After I have passed away, I want people to remember me as:\n",
            "The Good\n",
            "The Great\n",
            "The Wise\n",
            "The Bold\n"
          ]
        }
      ],
      "source": [
        "# Question 1\n",
        "print('After I have passed away, I want people to remember me as:')\n",
        "print('The Good')\n",
        "print('The Great')\n",
        "print('The Wise')\n",
        "print('The Bold')\n",
        "\n"
      ]
    },
    {
      "cell_type": "markdown",
      "metadata": {
        "id": "GbGRzW9SwaW7"
      },
      "source": [
        "In the following cell, **ask the user to enter a corresponding number from above (e.g. \"Please enter your number choice\") and save the response from the user**. Remember that when a user enters a response, Python treats it as a string until told to treat as number."
      ]
    },
    {
      "cell_type": "code",
      "execution_count": 3,
      "metadata": {
        "id": "LLzzUjIGwZix",
        "colab": {
          "base_uri": "https://localhost:8080/"
        },
        "outputId": "f03c078f-876d-4f5b-e2b6-3a22b602fff3"
      },
      "outputs": [
        {
          "output_type": "stream",
          "name": "stdout",
          "text": [
            "Please enter your number choice:\n",
            "1 - Gryffindor\n",
            "2 - Hufflepuff\n",
            "3 - Ravenclaw\n",
            "4 - Slytherin\n",
            "Enter the number corresponding to your choice: 1\n",
            "You have chosen: Gryffindor\n"
          ]
        }
      ],
      "source": [
        "# TODO: Prompt user to enter number choice and save the number entered as a variable.\n",
        "\n",
        "print('Please enter your number choice:')\n",
        "print('1 - Gryffindor')\n",
        "print('2 - Hufflepuff')\n",
        "print('3 - Ravenclaw')\n",
        "print('4 - Slytherin')\n",
        "\n",
        "user_choice = input('Enter the number corresponding to your choice: ')\n",
        "\n",
        "user_choice = int(user_choice)\n",
        "\n",
        "if user_choice == 1:\n",
        "    house = 'Gryffindor'\n",
        "elif user_choice == 2:\n",
        "    house = 'Hufflepuff'\n",
        "elif user_choice == 3:\n",
        "    house = 'Ravenclaw'\n",
        "elif user_choice == 4:\n",
        "    house = 'Slytherin'\n",
        "else:\n",
        "    house = 'Invalid choice'\n",
        "\n",
        "print('You have chosen:', house)\n",
        "q_1 = int(input())\n"
      ]
    },
    {
      "cell_type": "markdown",
      "metadata": {
        "id": "5yNGFER9xNjc"
      },
      "source": [
        "In the following cell, **based on the response from the user, increment the appropriate House count**. You will complete the conditional statement as specified in the comments. Right now it always prints good choice. (Why?)"
      ]
    },
    {
      "cell_type": "code",
      "execution_count": 23,
      "metadata": {
        "id": "_lGcvdh5xw6C",
        "colab": {
          "base_uri": "https://localhost:8080/"
        },
        "outputId": "762721b8-20b6-42bb-e193-ef78a63496d6"
      },
      "outputs": [
        {
          "name": "stdout",
          "output_type": "stream",
          "text": [
            "Enter the number corresponding to your choice: 2\n"
          ]
        }
      ],
      "source": [
        "# Prompt user to enter a number choice and save it as a variable\n",
        "user_choice = input('Enter the number corresponding to your choice: ')\n",
        "\n",
        "# Convert the user's input to an integer\n",
        "user_choice = int(user_choice)\n",
        "\n",
        "# Increment the count of the appropriate House based on the user's choice\n",
        "if user_choice == 1:\n",
        "    hufflepuff_count += 1\n",
        "elif user_choice == 2:\n",
        "    slytherin_count += 1\n",
        "elif user_choice == 3:\n",
        "    ravenclaw_count += 1\n",
        "elif user_choice == 4:\n",
        "    gryffindor_count += 1\n",
        "else:\n",
        "    print('Invalid choice. Please select a valid number (1, 2, 3, or 4).')\n",
        "\n",
        "# Now, you have incremented the count of the selected House based on the user's choice.\n",
        "# You can continue your code with these counts as needed.\n",
        "\n",
        "\n"
      ]
    },
    {
      "cell_type": "markdown",
      "metadata": {
        "id": "4dODrt9WnO-v"
      },
      "source": [
        "## Q2:"
      ]
    },
    {
      "cell_type": "code",
      "execution_count": 24,
      "metadata": {
        "id": "ncutxJBKniMh",
        "colab": {
          "base_uri": "https://localhost:8080/"
        },
        "outputId": "1a5f2b64-ad74-4347-a856-87ff8f75b72b"
      },
      "outputs": [
        {
          "name": "stdout",
          "output_type": "stream",
          "text": [
            "Q2) Dawn or Dusk?\n",
            "  1) Dawn\n",
            "  2) Dusk\n",
            "Enter the number corresponding to your choice (1 or 2): 1\n"
          ]
        }
      ],
      "source": [
        "print('Q2) Dawn or Dusk?')\n",
        "print('  1) Dawn')\n",
        "print('  2) Dusk')\n",
        "\n",
        "# Prompt user to enter a number choice and save it as a variable\n",
        "q2_choice = input('Enter the number corresponding to your choice (1 or 2): ')\n",
        "\n",
        "# Convert the user's input to an integer\n",
        "q2_choice = int(q2_choice)\n",
        "\n",
        "# Now, you can use the 'q2_choice' variable to determine the selected option for Question 2.\n"
      ]
    },
    {
      "cell_type": "code",
      "execution_count": null,
      "metadata": {
        "id": "6dSl_gTHzfBm"
      },
      "outputs": [],
      "source": [
        "# TODO: Prompt user to enter number choice and save the number entered as a variable."
      ]
    },
    {
      "cell_type": "markdown",
      "metadata": {
        "id": "R3rSX1wpztIC"
      },
      "source": [
        "In the following cell, **based on the response from the user, increment the appropriate House count**. You will complete the conditional statement as specified in the comments. (This is not a good way to write a conditional statement!)"
      ]
    },
    {
      "cell_type": "code",
      "execution_count": 26,
      "metadata": {
        "id": "Xf2dy7QWz1iQ"
      },
      "outputs": [],
      "source": [
        "# Change this statement as specified to increment the appropriate house based on the user response\n",
        "if q2_choice == 1:\n",
        "    # Increment Gryffindor and Ravenclaw counts\n",
        "    gryffindor_count += 1\n",
        "    ravenclaw_count += 1\n",
        "# TODO: else if the answer is 2, increment Hufflepuff and Slytherin\n",
        "elif q2_choice == 2:\n",
        "    hufflepuff_count += 1\n",
        "    slytherin_count += 1\n",
        "# The else clause can be left as is\n",
        "else:\n",
        "    print('Invalid choice')\n"
      ]
    },
    {
      "cell_type": "markdown",
      "metadata": {
        "id": "E5-kf-6n05Fb"
      },
      "source": [
        "## Q3:"
      ]
    },
    {
      "cell_type": "code",
      "execution_count": 27,
      "metadata": {
        "id": "jDZDhGLQ08b0",
        "colab": {
          "base_uri": "https://localhost:8080/"
        },
        "outputId": "a89834e0-3a17-4532-ce8c-922abe8b0037"
      },
      "outputs": [
        {
          "name": "stdout",
          "output_type": "stream",
          "text": [
            "Which kind of instrument most pleases your ear?\n",
            "  1) The violin\n",
            "  2) The trumpet\n",
            "  3) The piano\n",
            "  4) The drum\n",
            "Enter the number corresponding to your choice (1, 2, 3, or 4): 3\n"
          ]
        }
      ],
      "source": [
        "# Question 3\n",
        "# Display the question and answer choices\n",
        "print('Which kind of instrument most pleases your ear?')\n",
        "print('  1) The violin')\n",
        "print('  2) The trumpet')\n",
        "print('  3) The piano')\n",
        "print('  4) The drum')\n",
        "\n",
        "# Prompt the user to enter a number choice and save it as a variable\n",
        "q3_choice = input('Enter the number corresponding to your choice (1, 2, 3, or 4): ')\n",
        "\n",
        "# Convert the user's input to an integer\n",
        "q3_choice = int(q3_choice)\n",
        "\n",
        "# Now, you can use the 'q3_choice' variable to determine the selected option for Question 3.\n"
      ]
    },
    {
      "cell_type": "code",
      "execution_count": null,
      "metadata": {
        "id": "yn1MVik70-X6"
      },
      "outputs": [],
      "source": [
        "# TODO: Prompt user to enter number choice and save the number entered as a variable."
      ]
    },
    {
      "cell_type": "markdown",
      "metadata": {
        "id": "jrWA13-t1DII"
      },
      "source": [
        "In the following cell, **based on the response from the user, increment the appropriate House count**. You will complete the conditional statement as specified in the comments."
      ]
    },
    {
      "cell_type": "code",
      "execution_count": 28,
      "metadata": {
        "id": "XSZb06PT1S59"
      },
      "outputs": [],
      "source": [
        "# Change this statement as specified to increment the appropriate house based on the user response\n",
        "if q3_choice == 1:\n",
        "    slytherin_count += 1\n",
        "# TODO: else if the answer is 2, increment Hufflepuff\n",
        "elif q3_choice == 2:\n",
        "    hufflepuff_count += 1\n",
        "# TODO: else if the answer is 3, increment Ravenclaw\n",
        "elif q3_choice == 3:\n",
        "    ravenclaw_count += 1\n",
        "# TODO: else if the answer is 4, increment Gryffindor\n",
        "elif q3_choice == 4:\n",
        "    gryffindor_count += 1\n",
        "# This else clause can remain unchanged\n",
        "else:\n",
        "    print('Invalid choice')\n"
      ]
    },
    {
      "cell_type": "markdown",
      "metadata": {
        "id": "O8oF7J1OmCnQ"
      },
      "source": [
        "## Q4:\n",
        "Here's where we will need to practice *nested conditional* statements. *Nested conditional* statements are *if* statements within *if* statements. Here we will ask all users the same question. However, based on their response within the *if* statement you will need to ask another question and then increment the appropriate House count. We will get this started and save the first response."
      ]
    },
    {
      "cell_type": "code",
      "execution_count": 29,
      "metadata": {
        "id": "GWIPxLAS2ZgN",
        "colab": {
          "base_uri": "https://localhost:8080/"
        },
        "outputId": "d08c22cb-b20c-4688-a559-26c79ea81c68"
      },
      "outputs": [
        {
          "name": "stdout",
          "output_type": "stream",
          "text": [
            "Do roads in nature tempt you the most?\n",
            "  1) Yes\n",
            "  2) No\n",
            "Please enter a number to answer:2\n"
          ]
        }
      ],
      "source": [
        "print('Do roads in nature tempt you the most?')\n",
        "print('  1) Yes')\n",
        "print('  2) No')\n",
        "\n",
        "choice = input('Please enter a number to answer:')\n",
        "select = int(choice)"
      ]
    },
    {
      "cell_type": "markdown",
      "metadata": {
        "id": "tuPX7Li-2YGw"
      },
      "source": [
        "Now based on the user reply, you will have to **ask the user the specific type of road and then use that to increment the appropriate house count**. We started out this if statement in the following cell and you will need to complete it by adding nested if statements and incrementing house counts as specified in the comments."
      ]
    },
    {
      "cell_type": "code",
      "execution_count": 44,
      "metadata": {
        "id": "mCuyN8JZqPhI",
        "colab": {
          "base_uri": "https://localhost:8080/",
          "height": 315
        },
        "outputId": "654bbc6a-d7ae-49f0-d6a7-978a58f1aa65"
      },
      "outputs": [
        {
          "name": "stdout",
          "output_type": "stream",
          "text": [
            "Do you prefer:\n",
            "1) The narrow, dark, lantern-lit alley\n",
            "2) The cobbled street lined with ancient buildings\n",
            "1\n"
          ]
        },
        {
          "output_type": "error",
          "ename": "NameError",
          "evalue": "ignored",
          "traceback": [
            "\u001b[0;31m---------------------------------------------------------------------------\u001b[0m",
            "\u001b[0;31mNameError\u001b[0m                                 Traceback (most recent call last)",
            "\u001b[0;32m<ipython-input-44-e9d8078083f5>\u001b[0m in \u001b[0;36m<cell line: 2>\u001b[0;34m()\u001b[0m\n\u001b[1;32m     32\u001b[0m     \u001b[0;31m# TODO: If alley, increment Slytherin\u001b[0m\u001b[0;34m\u001b[0m\u001b[0;34m\u001b[0m\u001b[0m\n\u001b[1;32m     33\u001b[0m     \u001b[0;32mif\u001b[0m \u001b[0mchoice_2\u001b[0m \u001b[0;34m==\u001b[0m \u001b[0;36m1\u001b[0m\u001b[0;34m:\u001b[0m\u001b[0;34m\u001b[0m\u001b[0;34m\u001b[0m\u001b[0m\n\u001b[0;32m---> 34\u001b[0;31m         \u001b[0mslytherin\u001b[0m \u001b[0;34m+=\u001b[0m \u001b[0;36m1\u001b[0m\u001b[0;34m\u001b[0m\u001b[0;34m\u001b[0m\u001b[0m\n\u001b[0m\u001b[1;32m     35\u001b[0m     \u001b[0;31m# TODO: If cobbled street, increment Ravenclaw\u001b[0m\u001b[0;34m\u001b[0m\u001b[0;34m\u001b[0m\u001b[0m\n\u001b[1;32m     36\u001b[0m     \u001b[0;32melif\u001b[0m \u001b[0mchoice_2\u001b[0m \u001b[0;34m==\u001b[0m \u001b[0;36m2\u001b[0m\u001b[0;34m:\u001b[0m\u001b[0;34m\u001b[0m\u001b[0;34m\u001b[0m\u001b[0m\n",
            "\u001b[0;31mNameError\u001b[0m: name 'slytherin' is not defined"
          ]
        }
      ],
      "source": [
        "# Check the value of 'select' to determine the scenario\n",
        "if select == 1:\n",
        "    # TODO: Ask the user if they prefer\n",
        "    # 1) The wide, sunny grassy lane\n",
        "    # 2) The twisting, leaf-strewn path through woods\n",
        "    print('Do you prefer')\n",
        "    print('1) The wide, sunny grassy lane')\n",
        "    print('2) The twisting, leaf-strewn path through woods')\n",
        "\n",
        "    # TODO: Save the user's response as an integer\n",
        "    choice_1 = int(input())\n",
        "\n",
        "    # TODO: If grassy lane, increment Hufflepuff\n",
        "    if choice_1 == 1:\n",
        "        hufflepuff += 1\n",
        "    # TODO: If woods, increment Gryffindor\n",
        "    elif choice_1 == 2:\n",
        "        gryffindor += 1\n",
        "    # No need to worry about error checking\n",
        "\n",
        "elif select == 2:\n",
        "    # TODO: Ask the user if they prefer\n",
        "    # 1) The narrow, dark, lantern-lit alley\n",
        "    # 2) The cobbled street lined with ancient buildings\n",
        "    print('Do you prefer:')\n",
        "    print('1) The narrow, dark, lantern-lit alley')\n",
        "    print('2) The cobbled street lined with ancient buildings')\n",
        "\n",
        "    # TODO: Save the user's response as an integer\n",
        "    choice_2 = int(input())\n",
        "\n",
        "    # TODO: If alley, increment Slytherin\n",
        "    if choice_2 == 1:\n",
        "        slytherin += 1\n",
        "    # TODO: If cobbled street, increment Ravenclaw\n",
        "    elif choice_2 == 2:\n",
        "        ravenclaw += 1\n",
        "    # No need to worry about error checking\n",
        "\n",
        "else:\n",
        "    print('Invalid choice')\n"
      ]
    },
    {
      "cell_type": "markdown",
      "metadata": {
        "id": "OIWaikgzrzdR"
      },
      "source": [
        "## Challenge! Determining Appropriate House\n",
        "Now that we have tallied all the responses, can you figure out which house has the maximum number of responses? That will be the house for the user. If there is a tie, break the tie using alphabetical order: Gryffindor, Hufflepuff, Ravenclaw, Slytherin (in that order). We will get you started and show what needs to be printed, but you need to **figure out what house has the maximum count** using the count variables above.\n"
      ]
    },
    {
      "cell_type": "code",
      "execution_count": 39,
      "metadata": {
        "id": "TM3VQOMVtiU4",
        "colab": {
          "base_uri": "https://localhost:8080/",
          "height": 245
        },
        "outputId": "0db376c3-f844-4c04-fac0-54f8c655b777"
      },
      "outputs": [
        {
          "output_type": "error",
          "ename": "NameError",
          "evalue": "ignored",
          "traceback": [
            "\u001b[0;31m---------------------------------------------------------------------------\u001b[0m",
            "\u001b[0;31mNameError\u001b[0m                                 Traceback (most recent call last)",
            "\u001b[0;32m<ipython-input-39-b0ef2d6ba2eb>\u001b[0m in \u001b[0;36m<cell line: 13>\u001b[0;34m()\u001b[0m\n\u001b[1;32m     11\u001b[0m \u001b[0;34m\u001b[0m\u001b[0m\n\u001b[1;32m     12\u001b[0m \u001b[0;31m# if Gryffindor has more than the current max, update max_count and set house to 'Gryffindor'\u001b[0m\u001b[0;34m\u001b[0m\u001b[0;34m\u001b[0m\u001b[0m\n\u001b[0;32m---> 13\u001b[0;31m \u001b[0;32mif\u001b[0m \u001b[0mgryffindor\u001b[0m \u001b[0;34m>\u001b[0m \u001b[0mmax_count\u001b[0m\u001b[0;34m:\u001b[0m\u001b[0;34m\u001b[0m\u001b[0;34m\u001b[0m\u001b[0m\n\u001b[0m\u001b[1;32m     14\u001b[0m     \u001b[0mhouse\u001b[0m \u001b[0;34m=\u001b[0m \u001b[0;34m'Gryffindor'\u001b[0m\u001b[0;34m\u001b[0m\u001b[0;34m\u001b[0m\u001b[0m\n\u001b[1;32m     15\u001b[0m     \u001b[0mmax_count\u001b[0m \u001b[0;34m=\u001b[0m \u001b[0mgryffindor\u001b[0m\u001b[0;34m\u001b[0m\u001b[0;34m\u001b[0m\u001b[0m\n",
            "\u001b[0;31mNameError\u001b[0m: name 'gryffindor' is not defined"
          ]
        }
      ],
      "source": [
        "# Let's make a string variable to keep track of the house.\n",
        "house = 'None'\n",
        "\n",
        "# Let's keep track of the max_count\n",
        "max_count = 0\n",
        "\n",
        "# How can you find the House with the max count?\n",
        "# Remember that in the event of a tie, the user should be sorted into\n",
        "# the House in alphabetical order, so\n",
        "# Gryffindor before Hufflepuff before Ravenclaw before Slytherin\n",
        "\n",
        "# if Gryffindor has more than the current max, update max_count and set house to 'Gryffindor'\n",
        "if gryffindor > max_count:\n",
        "    house = 'Gryffindor'\n",
        "    max_count = gryffindor\n",
        "\n",
        "# Check if Hufflepuff has more than the current max, and if it's equal to the max, check the alphabetical order\n",
        "if hufflepuff > max_count or (hufflepuff == max_count and house > 'Hufflepuff'):\n",
        "    house = 'Hufflepuff'\n",
        "    max_count = hufflepuff\n",
        "\n",
        "# Check if Ravenclaw has more than the current max, and if it's equal to the max, check the alphabetical order\n",
        "if ravenclaw > max_count or (ravenclaw == max_count and house > 'Ravenclaw'):\n",
        "    house = 'Ravenclaw'\n",
        "    max_count = ravenclaw\n",
        "\n",
        "# Check if Slytherin has more than the current max, and if it's equal to the max, check the alphabetical order\n",
        "if slytherin > max_count or (slytherin == max_count and house > 'Slytherin'):\n",
        "    house = 'Slytherin'\n",
        "    max_count = slytherin\n",
        "\n",
        "# The following code does not need to be changed.\n",
        "# If the user entered all invalid responses and no house has any counts\n",
        "# the user cannot be sorted into a house, so it is fine if house is 'None'\n",
        "# at this point\n",
        "\n",
        "print('Congrats on being sorted into ' + house + '!')\n"
      ]
    },
    {
      "cell_type": "markdown",
      "metadata": {
        "id": "dKL0LYd-E4JB"
      },
      "source": [
        "### (Optional) Reflections\n",
        "Add a text cell below to answer the following questions:\n",
        "1. What do you feel more confident about after completing this lab?\n",
        "2. What do you feel you can use more help with after completing this lab?\n",
        "3. Do you have any constructive suggestions on how we can help you or improve this lab?"
      ]
    },
    {
      "cell_type": "markdown",
      "metadata": {
        "id": "gB1aHDpyFYey"
      },
      "source": [
        "### Save your work to GitHub\n",
        "Please save this notebook to your **lab repository** _LMU-CMSI-1010/lab-notebooks-YOURID_"
      ]
    },
    {
      "cell_type": "code",
      "execution_count": null,
      "metadata": {
        "id": "ah_Aa36K-Pb4"
      },
      "outputs": [],
      "source": []
    }
  ],
  "metadata": {
    "kernelspec": {
      "display_name": "Python 3",
      "language": "python",
      "name": "python3"
    },
    "language_info": {
      "codemirror_mode": {
        "name": "ipython",
        "version": 3
      },
      "file_extension": ".py",
      "mimetype": "text/x-python",
      "name": "python",
      "nbconvert_exporter": "python",
      "pygments_lexer": "ipython3",
      "version": "3.8.5"
    },
    "colab": {
      "provenance": [],
      "include_colab_link": true
    }
  },
  "nbformat": 4,
  "nbformat_minor": 0
}