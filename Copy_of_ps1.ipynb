{
  "cells": [
    {
      "cell_type": "markdown",
      "metadata": {
        "id": "view-in-github",
        "colab_type": "text"
      },
      "source": [
        "<a href=\"https://colab.research.google.com/github/KrishPathak1/lab-notebooks-original/blob/main/Copy_of_ps1.ipynb\" target=\"_parent\"><img src=\"https://colab.research.google.com/assets/colab-badge.svg\" alt=\"Open In Colab\"/></a>"
      ]
    },
    {
      "cell_type": "markdown",
      "metadata": {
        "id": "hPDuMyh8E7me"
      },
      "source": [
        "# Problem Set 1\n",
        "#### CMSI 1010: Computer Programming and Lab"
      ]
    },
    {
      "cell_type": "markdown",
      "metadata": {
        "id": "fGd49GigE7mi"
      },
      "source": [
        "##### Important Dates\n",
        "\n",
        " - Released: 2023-09-12 at 12:00 am [PT]\n",
        " - Deadline: 2023-09-19 at 11:59 pm [PT]"
      ]
    },
    {
      "cell_type": "markdown",
      "metadata": {
        "id": "zIxMn6NeE7mj"
      },
      "source": [
        "# Question 1: Reading\n",
        "* Chapter 2 in the _Think Python_ textbook: http://greenteapress.com/thinkpython2/thinkpython2.pdf"
      ]
    },
    {
      "cell_type": "markdown",
      "source": [
        "In your own words, summarize the key topics covered in the textbook chapter. Additionally, relate these topics to the concepts and material we've learned in class. How do the ideas presented in the chapter connect to the lessons and discussions we've had in the classroom? Please provide specific examples to support your points."
      ],
      "metadata": {
        "id": "ZqGFqw3I-thE"
      }
    },
    {
      "cell_type": "markdown",
      "metadata": {
        "id": "gQGVQoBQE7mj"
      },
      "source": [
        "This chapter begins by going into some of the foundation of coding such as variables and expressions, it goes over some examples of them and how to properly code them. They also go over the versions of python ,interactive mode which is what we code on and then script mode which is which allows you to break up your code so its easier to work on. It then goes on to talk about math in python and what symbols to use and the order of operations for it. Finally, it goes over some simple debugging and how you can use it when your writing your code."
      ]
    },
    {
      "cell_type": "markdown",
      "metadata": {
        "id": "W7ZcRdu4E7mk"
      },
      "source": [
        "# Question 2\n",
        "\n",
        "Refer to the above link for the following exercises and edit this file with your answers. Try to take full advantage of [Markdown](https://guides.github.com/features/mastering-markdown/) so that your answers are clearly and beautifully formatted!"
      ]
    },
    {
      "cell_type": "markdown",
      "metadata": {
        "id": "wC7vdkeIE7mk"
      },
      "source": [
        "### Part A\n",
        "\n",
        " **Textbook exercise 2.1**"
      ]
    },
    {
      "cell_type": "markdown",
      "metadata": {
        "id": "w-Y3Jj26E7ml"
      },
      "source": [
        "We’ve seen that n = 42 is legal. What about 42 = n?"
      ]
    },
    {
      "cell_type": "markdown",
      "metadata": {
        "id": "8qwAWbReE7ml"
      },
      "source": [
        "it does not work becuase you cant assing a string to a number but you can assign a number to a string."
      ]
    },
    {
      "cell_type": "markdown",
      "metadata": {
        "id": "7rEi2PNHE7mm"
      },
      "source": [
        "How about x = y = 1?"
      ]
    },
    {
      "cell_type": "markdown",
      "source": [],
      "metadata": {
        "id": "zAclRdDlO55p"
      }
    },
    {
      "cell_type": "markdown",
      "metadata": {
        "id": "Ei1YC0qwE7mm"
      },
      "source": [
        "Yes this works because it makes logical sense"
      ]
    },
    {
      "cell_type": "code",
      "source": [],
      "metadata": {
        "id": "l8IIvjH2PmEq"
      },
      "execution_count": null,
      "outputs": []
    },
    {
      "cell_type": "markdown",
      "metadata": {
        "id": "lxOBe-dmE7mn"
      },
      "source": [
        "In some languages every statement ends with a semi-colon ;. What happens if you put a semi-colon at the end of a Python statement?"
      ]
    },
    {
      "cell_type": "markdown",
      "metadata": {
        "id": "pLW-NOuNE7mn"
      },
      "source": [
        "It will put multiple statemnts on the the same line\n",
        "\n",
        "```\n"
      ]
    },
    {
      "cell_type": "markdown",
      "metadata": {
        "id": "pa0yIjPkE7mn"
      },
      "source": [
        "What if you put a period at the end of a statement?"
      ]
    },
    {
      "cell_type": "markdown",
      "metadata": {
        "id": "guyoDPMGE7mn"
      },
      "source": [
        "It will cause  asyntax error, unless you do something like n=1."
      ]
    },
    {
      "cell_type": "markdown",
      "metadata": {
        "id": "X2h8EtaBE7mo"
      },
      "source": [
        "In math notation you can multiply x and y like this: x y. What happens if you try that in Python?"
      ]
    },
    {
      "cell_type": "markdown",
      "metadata": {
        "id": "EWqiWt-rE7mo"
      },
      "source": [
        "it will show that it is not defined properly"
      ]
    },
    {
      "cell_type": "markdown",
      "metadata": {
        "id": "OOQSvbr5E7mo"
      },
      "source": [
        "### Part B\n",
        " **Textbook exercise 2.2** (parts 1, 2, and 3)\n",
        "\n",
        "Practice using Python as a calculator:"
      ]
    },
    {
      "cell_type": "markdown",
      "metadata": {
        "id": "F9SJwed3E7mo"
      },
      "source": [
        "The volume of a sphere with radius $r$ is $4/3 π r^3$. Write a function to get the volume of the sphere given its radius."
      ]
    },
    {
      "cell_type": "code",
      "execution_count": 4,
      "metadata": {
        "id": "Ihks2SlOE7mp",
        "colab": {
          "base_uri": "https://localhost:8080/"
        },
        "outputId": "eca92ca1-dc0c-400a-e2d5-e2983b6449b4"
      },
      "outputs": [
        {
          "output_type": "stream",
          "name": "stdout",
          "text": [
            "33.5\n"
          ]
        }
      ],
      "source": [
        "from math import pi\n",
        "\n",
        "def sphere_volume(radius) :\n",
        "    \"\"\"Return the volume of a sphere with radius `radius`.\"\"\"\n",
        "    sphere = ((4 / 3) * pi * (radius**3))\n",
        "    return sphere\n",
        "\n",
        "print (round(sphere_volume(2), 1))\n",
        "\n",
        "\n",
        "# Run this cell to test your function!\n",
        "assert round(sphere_volume(2), 1) == 33.5\n",
        "assert round(sphere_volume(4), 1) == 268.1\n",
        "assert round(sphere_volume(5.5), 1) == 696.9"
      ]
    },
    {
      "cell_type": "markdown",
      "metadata": {
        "id": "BQHHKTaBE7mq"
      },
      "source": [
        "Suppose the cover price of a book is $\\$ 24.95$, but bookstores get a $40\\%$ discount. Shipping costs $\\$3$ for the first copy and 75 cents for each additional copy. Write a function to calculate the total wholesale cost given the number of copies."
      ]
    },
    {
      "cell_type": "code",
      "execution_count": 10,
      "metadata": {
        "id": "E3QU8kt2E7mq",
        "colab": {
          "base_uri": "https://localhost:8080/"
        },
        "outputId": "cf1956ba-cb36-4920-f6b0-4428299f47d0"
      },
      "outputs": [
        {
          "output_type": "stream",
          "name": "stdout",
          "text": [
            "945.45\n"
          ]
        }
      ],
      "source": [
        "def total_wholesale_cost(copies):\n",
        "    \"\"\"Return the total wholesale cost of `copies` copies.\"\"\"\n",
        "    book_price = 24.95  # Cover price of the book\n",
        "    discount = 0.40  # 40% discount\n",
        "    shipping_cost_first_copy = 3.00\n",
        "    shipping_cost_additional_copy = 0.75\n",
        "    book_cost = book_price - (book_price * discount)\n",
        "    # Calculate the cost of the first book\n",
        "    first_book_cost = book_cost + shipping_cost_first_copy\n",
        "\n",
        "    # Calculate the cost of additional copies\n",
        "    additional_copies_cost = (copies - 1) * (book_cost + shipping_cost_additional_copy)\n",
        "\n",
        "    # Calculate the total wholesale cost\n",
        "    total_wholesale_cost = (first_book_cost + additional_copies_cost)\n",
        "\n",
        "    return total_wholesale_cost\n",
        "\n",
        "# Test your function with some sample inputs\n",
        "print(round(total_wholesale_cost(60), 2))\n",
        "\n",
        "\n",
        "# Run this cell to test your function!\n",
        "assert (round(total_wholesale_cost(60), 2) == 945.45)\n",
        "assert (round(total_wholesale_cost(100), 2) == 1574.25)\n",
        "assert (round(total_wholesale_cost(200), 2) == 3146.25)"
      ]
    },
    {
      "cell_type": "markdown",
      "metadata": {
        "id": "WweWmZSGE7mq"
      },
      "source": [
        "A runner runs `easy_miles` at an easy pace (8:15 per mile) and `tempo_miles` miles at tempo pace (7:12 per mile). Write a function to calculate the total time of the run in seconds."
      ]
    },
    {
      "cell_type": "code",
      "execution_count": 16,
      "metadata": {
        "id": "ygTl43TmE7mq",
        "colab": {
          "base_uri": "https://localhost:8080/"
        },
        "outputId": "e1288030-bedb-4482-f8af-e7b77d2c50f9"
      },
      "outputs": [
        {
          "output_type": "stream",
          "name": "stdout",
          "text": [
            "2349\n"
          ]
        }
      ],
      "source": [
        "def run_total_seconds(easy_miles, tempo_miles):\n",
        "    \"\"\"Return the total seconds of a run with `easy_miles` miles at an easy pace\n",
        "    and `tempo_miles` miles at a tempo pace.\"\"\"\n",
        "    # your code here\n",
        "    easy_miles_seconds = 495\n",
        "    tempo_miles_seconds = 432\n",
        "    run_total_seconds = easy_miles * easy_miles_seconds + tempo_miles * tempo_miles_seconds\n",
        "    return run_total_seconds\n",
        "\n",
        "print((run_total_seconds(3, 2)))\n",
        "\n",
        "# Run this cell to test your function!\n",
        "assert (run_total_seconds(3, 2) == 2349)\n",
        "assert (run_total_seconds(5, 3) == 3771)\n",
        "assert (run_total_seconds(10, 5) == 7110)\n"
      ]
    },
    {
      "cell_type": "markdown",
      "metadata": {
        "id": "va7JQT-tE7mq"
      },
      "source": [
        "# Question 3\n",
        "\n",
        "#### Programming: Write a Mad Lib\n",
        "Mad Libs are word games where one player fills in the blanks of another player’s story by providing words of certain types. When the words are substituted in for the blanks, the result is a complete, grammatically correct, but often nonsensical, story.\n",
        "\n",
        "In this question, we are going to write a program that lets the user make a Mad Lib!\n",
        "\n",
        "First, you will need a Mad Lib: feel free to write your own or choose one from http://www.madglibs.com"
      ]
    },
    {
      "cell_type": "markdown",
      "metadata": {
        "id": "6Fhj7Hb8E7mr"
      },
      "source": [
        "Now, using the `input` function we learned in class, prompt the user for words to fill in the blanks. Ask the user for at least four (4) values (e.g., ADJ, NOUN, VERB, etc.)."
      ]
    },
    {
      "cell_type": "code",
      "execution_count": 23,
      "metadata": {
        "id": "ZkBEOUZZE7mr",
        "colab": {
          "base_uri": "https://localhost:8080/",
          "height": 175
        },
        "outputId": "feb4719f-664f-4764-cf08-6763f8aff28b"
      },
      "outputs": [
        {
          "name": "stdout",
          "output_type": "stream",
          "text": [
            "Be kind to your\n",
            "Please enter a noun: Bannana\n",
            "Please enter a plural noun: Chairs\n",
            "please enter a noun: Krish\n",
            "please enter a place: Paris\n",
            "please enter an adjective: Speedy\n",
            "please enter a noun: Tree\n"
          ]
        },
        {
          "output_type": "execute_result",
          "data": {
            "text/plain": [
              "\"\\nBe kind to your London-footed Chris's\\nFor a duck may be somebody`s Vegtable,\\nBe kind to your Chris's in Paris\\nWhere the weather is always Black.\\n\\nYou may think that this is the Bike,\\nWell it is.\\nnoun, place, adjective, noun\\n\""
            ],
            "application/vnd.google.colaboratory.intrinsic+json": {
              "type": "string"
            }
          },
          "metadata": {},
          "execution_count": 23
        }
      ],
      "source": [
        "print('Be kind to your')\n",
        "user_input1 = input(\"Please enter a noun: \")\n",
        "user_input2 = input('Please enter a plural noun: ')\n",
        "user_input3 = input('please enter a noun: ')\n",
        "user_input4 = input('please enter a place: ')\n",
        "user_input5 = input('please enter an adjective: ')\n",
        "user_input6 = input('please enter a noun: ')\n",
        "\n",
        "\n",
        "'''\n",
        "Be kind to your London-footed Chris's\n",
        "For a duck may be somebody`s Vegtable,\n",
        "Be kind to your Chris's in Paris\n",
        "Where the weather is always Black.\n",
        "\n",
        "You may think that this is the Bike,\n",
        "Well it is.\n",
        "noun, place, adjective, noun\n",
        "'''"
      ]
    },
    {
      "cell_type": "markdown",
      "metadata": {
        "id": "uQ82WiS6E7mr"
      },
      "source": [
        "Finally, print out the story for the user!"
      ]
    },
    {
      "cell_type": "code",
      "execution_count": 24,
      "metadata": {
        "id": "q-rwAaPRE7mr",
        "colab": {
          "base_uri": "https://localhost:8080/"
        },
        "outputId": "bf498436-9e0a-464c-9066-2e18741ddf96"
      },
      "outputs": [
        {
          "output_type": "stream",
          "name": "stdout",
          "text": [
            "Be kind to your London-footed BannanaChairs For a duck may be somebodys Krish Be kind to your Chairs in Paris Where the weather is always Speedy You may think that this is the Tree, Well it is\n"
          ]
        }
      ],
      "source": [
        "print('Be kind to your London-footed ' + user_input1 + user_input2 +\n",
        "      ' For a duck may be somebodys ' + user_input3 +\n",
        "      ' Be kind to your ' + user_input2 + ' in ' + user_input4 +\n",
        "      ' Where the weather is always ' + user_input5\n",
        "      + ' You may think that this is the ' + user_input6 + ', Well it is')"
      ]
    },
    {
      "cell_type": "markdown",
      "metadata": {
        "id": "stn-X-77FtYZ"
      },
      "source": [
        "# Optional: Submit a selfie with a CMSI TA!"
      ]
    },
    {
      "cell_type": "markdown",
      "metadata": {
        "id": "0PA2HcBPQDrf"
      },
      "source": [
        "**Do this:** Upload the selfie image to this notebook by uploading the image to your google drive and make sure it's a public folder and get the shareable link by right-clicking on the picture and choose 'Get a sharable link'. You just need the id of the image so copy that (the id is between /d/ and /view). **There is a text cell below but it is invisible, you have to click below to make it show. Now paste the ID in the link below where it says \"PASTE ID HERE.\"**"
      ]
    },
    {
      "cell_type": "markdown",
      "metadata": {
        "id": "xY5tmgxxSPMc"
      },
      "source": [
        "***\n",
        "![](https://drive.google.com/uc?export=view&id=PASTE_ID_HERE)\n",
        "***"
      ]
    }
  ],
  "metadata": {
    "colab": {
      "provenance": [],
      "include_colab_link": true
    },
    "kernelspec": {
      "display_name": "Python 3",
      "language": "python",
      "name": "python3"
    },
    "language_info": {
      "codemirror_mode": {
        "name": "ipython",
        "version": 3
      },
      "file_extension": ".py",
      "mimetype": "text/x-python",
      "name": "python",
      "nbconvert_exporter": "python",
      "pygments_lexer": "ipython3",
      "version": "3.10.6"
    },
    "vscode": {
      "interpreter": {
        "hash": "369f2c481f4da34e4445cda3fffd2e751bd1c4d706f27375911949ba6bb62e1c"
      }
    }
  },
  "nbformat": 4,
  "nbformat_minor": 0
}